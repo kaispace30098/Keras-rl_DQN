{
  "nbformat": 4,
  "nbformat_minor": 0,
  "metadata": {
    "colab": {
      "provenance": [],
      "authorship_tag": "ABX9TyNjD7EQ3WR8KkKZc93NNSMZ",
      "include_colab_link": true
    },
    "kernelspec": {
      "name": "python3",
      "display_name": "Python 3"
    },
    "language_info": {
      "name": "python"
    }
  },
  "cells": [
    {
      "cell_type": "markdown",
      "metadata": {
        "id": "view-in-github",
        "colab_type": "text"
      },
      "source": [
        "<a href=\"https://colab.research.google.com/github/kaispace30098/Keras-rl_DQN/blob/main/DQN_Agent_by_Keras_rl.ipynb\" target=\"_parent\"><img src=\"https://colab.research.google.com/assets/colab-badge.svg\" alt=\"Open In Colab\"/></a>"
      ]
    },
    {
      "cell_type": "markdown",
      "source": [
        "Create a deep learning model to solve a OpenAI Gym Lunar Lander.\n",
        "0.Open the Lunar Lander environment from gym\n",
        "1.Build the deep learning model by keras Sequential API with Embedding and Dense layers\n",
        "2.Import the Epsilon Greedy policy and Sequential Memory deque from keras-rl2's rl\n",
        "3.input the model, policy, and the memory in to rl.agent.DQNAgent and compile the model and fit\n",
        "4.using wrappers to record videos to check the quaily of the training: agent.test(env,nb_episodes=10,visualize=False)\n",
        "5.Save the model's weight"
      ],
      "metadata": {
        "id": "kmHiImAxi55V"
      }
    },
    {
      "cell_type": "code",
      "source": [
        "#import environment and visualization\n",
        "\n",
        "!pip install gym[box2d]\n",
        "import gym\n",
        "from gym import wrappers\n",
        "!pip install gym[classic_control]\n",
        "\n",
        "#import Deep Learning api\n",
        "import tensorflow as tf\n",
        "from tensorflow.keras.models import Model, Sequential\n",
        "from tensorflow.keras.layers import Dense, Flatten, Input, Embedding,Reshape\n",
        "from tensorflow.keras.optimizers import Adam\n",
        "\n",
        "#import rl agent library\n",
        "!pip install gym\n",
        "!pip install keras\n",
        "!pip install keras-rl2\n",
        "\n",
        "#data manipulation\n",
        "import numpy as np\n",
        "import pandas as pd\n",
        "import random "
      ],
      "metadata": {
        "id": "Ws6OgqG39Mkm",
        "colab": {
          "base_uri": "https://localhost:8080/"
        },
        "outputId": "c20f4131-4b37-4208-f4d7-f19e8b3a43c7"
      },
      "execution_count": 1,
      "outputs": [
        {
          "output_type": "stream",
          "name": "stdout",
          "text": [
            "Looking in indexes: https://pypi.org/simple, https://us-python.pkg.dev/colab-wheels/public/simple/\n",
            "Requirement already satisfied: gym[box2d] in /usr/local/lib/python3.8/dist-packages (0.25.2)\n",
            "Requirement already satisfied: importlib-metadata>=4.8.0 in /usr/local/lib/python3.8/dist-packages (from gym[box2d]) (6.0.0)\n",
            "Requirement already satisfied: numpy>=1.18.0 in /usr/local/lib/python3.8/dist-packages (from gym[box2d]) (1.21.6)\n",
            "Requirement already satisfied: cloudpickle>=1.2.0 in /usr/local/lib/python3.8/dist-packages (from gym[box2d]) (2.2.1)\n",
            "Requirement already satisfied: gym-notices>=0.0.4 in /usr/local/lib/python3.8/dist-packages (from gym[box2d]) (0.0.8)\n",
            "Requirement already satisfied: swig==4.* in /usr/local/lib/python3.8/dist-packages (from gym[box2d]) (4.1.1)\n",
            "Requirement already satisfied: box2d-py==2.3.5 in /usr/local/lib/python3.8/dist-packages (from gym[box2d]) (2.3.5)\n",
            "Requirement already satisfied: pygame==2.1.0 in /usr/local/lib/python3.8/dist-packages (from gym[box2d]) (2.1.0)\n",
            "Requirement already satisfied: zipp>=0.5 in /usr/local/lib/python3.8/dist-packages (from importlib-metadata>=4.8.0->gym[box2d]) (3.12.0)\n",
            "Looking in indexes: https://pypi.org/simple, https://us-python.pkg.dev/colab-wheels/public/simple/\n",
            "Requirement already satisfied: gym[classic_control] in /usr/local/lib/python3.8/dist-packages (0.25.2)\n",
            "Requirement already satisfied: importlib-metadata>=4.8.0 in /usr/local/lib/python3.8/dist-packages (from gym[classic_control]) (6.0.0)\n",
            "Requirement already satisfied: numpy>=1.18.0 in /usr/local/lib/python3.8/dist-packages (from gym[classic_control]) (1.21.6)\n",
            "Requirement already satisfied: gym-notices>=0.0.4 in /usr/local/lib/python3.8/dist-packages (from gym[classic_control]) (0.0.8)\n",
            "Requirement already satisfied: cloudpickle>=1.2.0 in /usr/local/lib/python3.8/dist-packages (from gym[classic_control]) (2.2.1)\n",
            "Requirement already satisfied: pygame==2.1.0 in /usr/local/lib/python3.8/dist-packages (from gym[classic_control]) (2.1.0)\n",
            "Requirement already satisfied: zipp>=0.5 in /usr/local/lib/python3.8/dist-packages (from importlib-metadata>=4.8.0->gym[classic_control]) (3.12.0)\n",
            "Looking in indexes: https://pypi.org/simple, https://us-python.pkg.dev/colab-wheels/public/simple/\n",
            "Requirement already satisfied: gym in /usr/local/lib/python3.8/dist-packages (0.25.2)\n",
            "Requirement already satisfied: numpy>=1.18.0 in /usr/local/lib/python3.8/dist-packages (from gym) (1.21.6)\n",
            "Requirement already satisfied: gym-notices>=0.0.4 in /usr/local/lib/python3.8/dist-packages (from gym) (0.0.8)\n",
            "Requirement already satisfied: cloudpickle>=1.2.0 in /usr/local/lib/python3.8/dist-packages (from gym) (2.2.1)\n",
            "Requirement already satisfied: importlib-metadata>=4.8.0 in /usr/local/lib/python3.8/dist-packages (from gym) (6.0.0)\n",
            "Requirement already satisfied: zipp>=0.5 in /usr/local/lib/python3.8/dist-packages (from importlib-metadata>=4.8.0->gym) (3.12.0)\n",
            "Looking in indexes: https://pypi.org/simple, https://us-python.pkg.dev/colab-wheels/public/simple/\n",
            "Requirement already satisfied: keras in /usr/local/lib/python3.8/dist-packages (2.9.0)\n",
            "Looking in indexes: https://pypi.org/simple, https://us-python.pkg.dev/colab-wheels/public/simple/\n",
            "Requirement already satisfied: keras-rl2 in /usr/local/lib/python3.8/dist-packages (1.0.5)\n",
            "Requirement already satisfied: tensorflow in /usr/local/lib/python3.8/dist-packages (from keras-rl2) (2.9.2)\n",
            "Requirement already satisfied: six>=1.12.0 in /usr/local/lib/python3.8/dist-packages (from tensorflow->keras-rl2) (1.15.0)\n",
            "Requirement already satisfied: keras<2.10.0,>=2.9.0rc0 in /usr/local/lib/python3.8/dist-packages (from tensorflow->keras-rl2) (2.9.0)\n",
            "Requirement already satisfied: astunparse>=1.6.0 in /usr/local/lib/python3.8/dist-packages (from tensorflow->keras-rl2) (1.6.3)\n",
            "Requirement already satisfied: numpy>=1.20 in /usr/local/lib/python3.8/dist-packages (from tensorflow->keras-rl2) (1.21.6)\n",
            "Requirement already satisfied: tensorflow-estimator<2.10.0,>=2.9.0rc0 in /usr/local/lib/python3.8/dist-packages (from tensorflow->keras-rl2) (2.9.0)\n",
            "Requirement already satisfied: google-pasta>=0.1.1 in /usr/local/lib/python3.8/dist-packages (from tensorflow->keras-rl2) (0.2.0)\n",
            "Requirement already satisfied: libclang>=13.0.0 in /usr/local/lib/python3.8/dist-packages (from tensorflow->keras-rl2) (15.0.6.1)\n",
            "Requirement already satisfied: grpcio<2.0,>=1.24.3 in /usr/local/lib/python3.8/dist-packages (from tensorflow->keras-rl2) (1.51.1)\n",
            "Requirement already satisfied: typing-extensions>=3.6.6 in /usr/local/lib/python3.8/dist-packages (from tensorflow->keras-rl2) (4.4.0)\n",
            "Requirement already satisfied: protobuf<3.20,>=3.9.2 in /usr/local/lib/python3.8/dist-packages (from tensorflow->keras-rl2) (3.19.6)\n",
            "Requirement already satisfied: absl-py>=1.0.0 in /usr/local/lib/python3.8/dist-packages (from tensorflow->keras-rl2) (1.4.0)\n",
            "Requirement already satisfied: gast<=0.4.0,>=0.2.1 in /usr/local/lib/python3.8/dist-packages (from tensorflow->keras-rl2) (0.4.0)\n",
            "Requirement already satisfied: flatbuffers<2,>=1.12 in /usr/local/lib/python3.8/dist-packages (from tensorflow->keras-rl2) (1.12)\n",
            "Requirement already satisfied: tensorboard<2.10,>=2.9 in /usr/local/lib/python3.8/dist-packages (from tensorflow->keras-rl2) (2.9.1)\n",
            "Requirement already satisfied: packaging in /usr/local/lib/python3.8/dist-packages (from tensorflow->keras-rl2) (23.0)\n",
            "Requirement already satisfied: keras-preprocessing>=1.1.1 in /usr/local/lib/python3.8/dist-packages (from tensorflow->keras-rl2) (1.1.2)\n",
            "Requirement already satisfied: h5py>=2.9.0 in /usr/local/lib/python3.8/dist-packages (from tensorflow->keras-rl2) (3.1.0)\n",
            "Requirement already satisfied: wrapt>=1.11.0 in /usr/local/lib/python3.8/dist-packages (from tensorflow->keras-rl2) (1.14.1)\n",
            "Requirement already satisfied: setuptools in /usr/local/lib/python3.8/dist-packages (from tensorflow->keras-rl2) (57.4.0)\n",
            "Requirement already satisfied: termcolor>=1.1.0 in /usr/local/lib/python3.8/dist-packages (from tensorflow->keras-rl2) (2.2.0)\n",
            "Requirement already satisfied: tensorflow-io-gcs-filesystem>=0.23.1 in /usr/local/lib/python3.8/dist-packages (from tensorflow->keras-rl2) (0.30.0)\n",
            "Requirement already satisfied: opt-einsum>=2.3.2 in /usr/local/lib/python3.8/dist-packages (from tensorflow->keras-rl2) (3.3.0)\n",
            "Requirement already satisfied: wheel<1.0,>=0.23.0 in /usr/local/lib/python3.8/dist-packages (from astunparse>=1.6.0->tensorflow->keras-rl2) (0.38.4)\n",
            "Requirement already satisfied: tensorboard-plugin-wit>=1.6.0 in /usr/local/lib/python3.8/dist-packages (from tensorboard<2.10,>=2.9->tensorflow->keras-rl2) (1.8.1)\n",
            "Requirement already satisfied: werkzeug>=1.0.1 in /usr/local/lib/python3.8/dist-packages (from tensorboard<2.10,>=2.9->tensorflow->keras-rl2) (1.0.1)\n",
            "Requirement already satisfied: markdown>=2.6.8 in /usr/local/lib/python3.8/dist-packages (from tensorboard<2.10,>=2.9->tensorflow->keras-rl2) (3.4.1)\n",
            "Requirement already satisfied: requests<3,>=2.21.0 in /usr/local/lib/python3.8/dist-packages (from tensorboard<2.10,>=2.9->tensorflow->keras-rl2) (2.25.1)\n",
            "Requirement already satisfied: google-auth-oauthlib<0.5,>=0.4.1 in /usr/local/lib/python3.8/dist-packages (from tensorboard<2.10,>=2.9->tensorflow->keras-rl2) (0.4.6)\n",
            "Requirement already satisfied: tensorboard-data-server<0.7.0,>=0.6.0 in /usr/local/lib/python3.8/dist-packages (from tensorboard<2.10,>=2.9->tensorflow->keras-rl2) (0.6.1)\n",
            "Requirement already satisfied: google-auth<3,>=1.6.3 in /usr/local/lib/python3.8/dist-packages (from tensorboard<2.10,>=2.9->tensorflow->keras-rl2) (2.16.0)\n",
            "Requirement already satisfied: pyasn1-modules>=0.2.1 in /usr/local/lib/python3.8/dist-packages (from google-auth<3,>=1.6.3->tensorboard<2.10,>=2.9->tensorflow->keras-rl2) (0.2.8)\n",
            "Requirement already satisfied: rsa<5,>=3.1.4 in /usr/local/lib/python3.8/dist-packages (from google-auth<3,>=1.6.3->tensorboard<2.10,>=2.9->tensorflow->keras-rl2) (4.9)\n",
            "Requirement already satisfied: cachetools<6.0,>=2.0.0 in /usr/local/lib/python3.8/dist-packages (from google-auth<3,>=1.6.3->tensorboard<2.10,>=2.9->tensorflow->keras-rl2) (5.3.0)\n",
            "Requirement already satisfied: requests-oauthlib>=0.7.0 in /usr/local/lib/python3.8/dist-packages (from google-auth-oauthlib<0.5,>=0.4.1->tensorboard<2.10,>=2.9->tensorflow->keras-rl2) (1.3.1)\n",
            "Requirement already satisfied: importlib-metadata>=4.4 in /usr/local/lib/python3.8/dist-packages (from markdown>=2.6.8->tensorboard<2.10,>=2.9->tensorflow->keras-rl2) (6.0.0)\n",
            "Requirement already satisfied: chardet<5,>=3.0.2 in /usr/local/lib/python3.8/dist-packages (from requests<3,>=2.21.0->tensorboard<2.10,>=2.9->tensorflow->keras-rl2) (4.0.0)\n",
            "Requirement already satisfied: urllib3<1.27,>=1.21.1 in /usr/local/lib/python3.8/dist-packages (from requests<3,>=2.21.0->tensorboard<2.10,>=2.9->tensorflow->keras-rl2) (1.24.3)\n",
            "Requirement already satisfied: idna<3,>=2.5 in /usr/local/lib/python3.8/dist-packages (from requests<3,>=2.21.0->tensorboard<2.10,>=2.9->tensorflow->keras-rl2) (2.10)\n",
            "Requirement already satisfied: certifi>=2017.4.17 in /usr/local/lib/python3.8/dist-packages (from requests<3,>=2.21.0->tensorboard<2.10,>=2.9->tensorflow->keras-rl2) (2022.12.7)\n",
            "Requirement already satisfied: zipp>=0.5 in /usr/local/lib/python3.8/dist-packages (from importlib-metadata>=4.4->markdown>=2.6.8->tensorboard<2.10,>=2.9->tensorflow->keras-rl2) (3.12.0)\n",
            "Requirement already satisfied: pyasn1<0.5.0,>=0.4.6 in /usr/local/lib/python3.8/dist-packages (from pyasn1-modules>=0.2.1->google-auth<3,>=1.6.3->tensorboard<2.10,>=2.9->tensorflow->keras-rl2) (0.4.8)\n",
            "Requirement already satisfied: oauthlib>=3.0.0 in /usr/local/lib/python3.8/dist-packages (from requests-oauthlib>=0.7.0->google-auth-oauthlib<0.5,>=0.4.1->tensorboard<2.10,>=2.9->tensorflow->keras-rl2) (3.2.2)\n"
          ]
        }
      ]
    },
    {
      "cell_type": "code",
      "source": [
        "#gym.envs.register(\n",
        "#    id='cartpole-challenge',\n",
        "#    entry_point='gym.envs.classic_control:CartPoleEnv',\n",
        "#    max_episode_steps=5000,      \n",
        "#     reward_threshold=-110.0,\n",
        "#)\n",
        "\n",
        "env = gym.make('LunarLander-v2')\n",
        "#Random Search and view outcome\n",
        "EPISODES=100\n",
        "\n",
        "for i in range(EPISODES):\n",
        "  return_=0\n",
        "  env._max_episode_steps=5000\n",
        "  env.reset()\n",
        "  \n",
        "  done=False\n",
        "  while not done:\n",
        "    action=env.action_space.sample()\n",
        "    next_step,reward,done,_=env.step(action)\n",
        "    return_+=reward\n",
        "  print('at episode',i,', the return is ', return_)\n",
        "\n"
      ],
      "metadata": {
        "colab": {
          "base_uri": "https://localhost:8080/"
        },
        "id": "2NRxA3bGLbrd",
        "outputId": "88f7db43-22ab-4daa-bf0f-6f1faa561eb6"
      },
      "execution_count": 2,
      "outputs": [
        {
          "output_type": "stream",
          "name": "stderr",
          "text": [
            "/usr/local/lib/python3.8/dist-packages/gym/core.py:317: DeprecationWarning: \u001b[33mWARN: Initializing wrapper in old step API which returns one bool instead of two. It is recommended to set `new_step_api=True` to use new step API. This will be the default behaviour in future.\u001b[0m\n",
            "  deprecation(\n",
            "/usr/local/lib/python3.8/dist-packages/gym/wrappers/step_api_compatibility.py:39: DeprecationWarning: \u001b[33mWARN: Initializing environment in old step API which returns one bool instead of two. It is recommended to set `new_step_api=True` to use new step API. This will be the default behaviour in future.\u001b[0m\n",
            "  deprecation(\n"
          ]
        },
        {
          "output_type": "stream",
          "name": "stdout",
          "text": [
            "at episode 0 , the return is  -87.9124891069432\n",
            "at episode 1 , the return is  -61.186994493582446\n",
            "at episode 2 , the return is  -395.82502185102015\n",
            "at episode 3 , the return is  -80.07989133906808\n",
            "at episode 4 , the return is  -106.69185241398156\n",
            "at episode 5 , the return is  -189.5632533948967\n",
            "at episode 6 , the return is  -105.37527660644952\n",
            "at episode 7 , the return is  -114.77572594276735\n",
            "at episode 8 , the return is  -122.5629053002499\n",
            "at episode 9 , the return is  -412.1977271616926\n",
            "at episode 10 , the return is  -228.59100445957958\n",
            "at episode 11 , the return is  -127.83941447237864\n",
            "at episode 12 , the return is  -156.43044895880726\n",
            "at episode 13 , the return is  -130.4715157482966\n",
            "at episode 14 , the return is  -382.51592683510273\n",
            "at episode 15 , the return is  -145.22039247743737\n",
            "at episode 16 , the return is  -171.2439696259081\n",
            "at episode 17 , the return is  -164.06977386679546\n",
            "at episode 18 , the return is  -180.60015306869644\n",
            "at episode 19 , the return is  -313.78154674100875\n",
            "at episode 20 , the return is  -116.82063865060042\n",
            "at episode 21 , the return is  -71.91647338554783\n",
            "at episode 22 , the return is  -173.5038125737808\n",
            "at episode 23 , the return is  -319.783753325632\n",
            "at episode 24 , the return is  -382.53594339835547\n",
            "at episode 25 , the return is  -351.0630186285191\n",
            "at episode 26 , the return is  -146.09210593673913\n",
            "at episode 27 , the return is  -128.88018453444175\n",
            "at episode 28 , the return is  -286.30718029692963\n",
            "at episode 29 , the return is  -410.0581175343735\n",
            "at episode 30 , the return is  -254.9030688313137\n",
            "at episode 31 , the return is  -462.75727567568345\n",
            "at episode 32 , the return is  -64.97192281780144\n",
            "at episode 33 , the return is  -299.590501284792\n",
            "at episode 34 , the return is  -108.22561479366703\n",
            "at episode 35 , the return is  -67.31097670157752\n",
            "at episode 36 , the return is  -117.68377880673157\n",
            "at episode 37 , the return is  -206.8963804258445\n",
            "at episode 38 , the return is  -498.43971393527215\n",
            "at episode 39 , the return is  -385.92742314641464\n",
            "at episode 40 , the return is  -8.60322433669893\n",
            "at episode 41 , the return is  -135.39724275670608\n",
            "at episode 42 , the return is  -244.021403774546\n",
            "at episode 43 , the return is  -79.7410282694678\n",
            "at episode 44 , the return is  -158.3023341857639\n",
            "at episode 45 , the return is  -474.0784105775663\n",
            "at episode 46 , the return is  -127.65492470702166\n",
            "at episode 47 , the return is  -70.73487985764078\n",
            "at episode 48 , the return is  -73.90582937604725\n",
            "at episode 49 , the return is  -122.6726194262129\n",
            "at episode 50 , the return is  -108.81253425188007\n",
            "at episode 51 , the return is  -249.34827146062335\n",
            "at episode 52 , the return is  -200.3875112507605\n",
            "at episode 53 , the return is  -415.29947749199033\n",
            "at episode 54 , the return is  -83.10437459120061\n",
            "at episode 55 , the return is  -82.60687870523005\n",
            "at episode 56 , the return is  -209.80253922042948\n",
            "at episode 57 , the return is  -311.3868683918897\n",
            "at episode 58 , the return is  -252.25291219725077\n",
            "at episode 59 , the return is  -153.2109543346246\n",
            "at episode 60 , the return is  -151.25944167502763\n",
            "at episode 61 , the return is  -499.65905858990743\n",
            "at episode 62 , the return is  -352.5772950676786\n",
            "at episode 63 , the return is  -139.7172883189824\n",
            "at episode 64 , the return is  -152.12830994155996\n",
            "at episode 65 , the return is  -125.92919936831478\n",
            "at episode 66 , the return is  -350.674923592271\n",
            "at episode 67 , the return is  -186.6130179380038\n",
            "at episode 68 , the return is  -204.45287982715092\n",
            "at episode 69 , the return is  -41.27693638229518\n",
            "at episode 70 , the return is  -78.78343565353005\n",
            "at episode 71 , the return is  -91.30439997609241\n",
            "at episode 72 , the return is  -50.47335523281524\n",
            "at episode 73 , the return is  -468.73284216136557\n",
            "at episode 74 , the return is  -252.79027565178592\n",
            "at episode 75 , the return is  -213.1971788677397\n",
            "at episode 76 , the return is  -141.31606536716532\n",
            "at episode 77 , the return is  -187.3920389653389\n",
            "at episode 78 , the return is  -140.5051185802346\n",
            "at episode 79 , the return is  -68.75081576099485\n",
            "at episode 80 , the return is  -266.9950362441919\n",
            "at episode 81 , the return is  -56.8403941346743\n",
            "at episode 82 , the return is  -90.32612653252936\n",
            "at episode 83 , the return is  -33.997941423481365\n",
            "at episode 84 , the return is  -150.31692740112342\n",
            "at episode 85 , the return is  -211.8922749115751\n",
            "at episode 86 , the return is  -87.42013166285369\n",
            "at episode 87 , the return is  -186.5025383012503\n",
            "at episode 88 , the return is  -483.07340251840276\n",
            "at episode 89 , the return is  -276.0251954235294\n",
            "at episode 90 , the return is  -336.2150028282079\n",
            "at episode 91 , the return is  -108.58571635386495\n",
            "at episode 92 , the return is  -194.20844207253782\n",
            "at episode 93 , the return is  -319.20574241301586\n",
            "at episode 94 , the return is  -64.42345417210227\n",
            "at episode 95 , the return is  -338.13060781336503\n",
            "at episode 96 , the return is  -115.52460981181979\n",
            "at episode 97 , the return is  -100.63732177791712\n",
            "at episode 98 , the return is  -158.28431169963693\n",
            "at episode 99 , the return is  -294.96215662583177\n"
          ]
        }
      ]
    },
    {
      "cell_type": "code",
      "source": [
        "actions=env.action_space.n\n",
        "states=env.observation_space.shape[0]\n",
        "print(actions,states)\n",
        "\n",
        "def build_model(states,actions):\n",
        "  model=Sequential()\n",
        "  #model.add(Embedding(states,10, input_length=1))\n",
        "  #model.add(Reshape((10,)))\n",
        "  model.add(Flatten(input_shape=(1,states)))\n",
        "  model.add(Dense(32,activation='relu'))\n",
        "  model.add(Dense(32,activation='relu'))\n",
        "  model.add(Dense(actions,activation='linear'))\n",
        "  return model\n",
        "  "
      ],
      "metadata": {
        "id": "JcR2LyFcRgEC",
        "colab": {
          "base_uri": "https://localhost:8080/"
        },
        "outputId": "bd8d1624-5eba-4999-f080-fde8dedc7478"
      },
      "execution_count": 3,
      "outputs": [
        {
          "output_type": "stream",
          "name": "stdout",
          "text": [
            "4 8\n"
          ]
        }
      ]
    },
    {
      "cell_type": "code",
      "source": [
        "import rl\n",
        "from rl.agents import DQNAgent\n",
        "from rl.policy import EpsGreedyQPolicy,BoltzmannQPolicy\n",
        "from rl.memory import SequentialMemory\n",
        "def build_model(states,actions):\n",
        "  model=Sequential()\n",
        "  #model.add(Embedding(states,10, input_length=1))\n",
        "  #model.add(Reshape((10,)))\n",
        "  model.add(Flatten(input_shape=(1,states)))\n",
        "  model.add(Dense(32,activation='relu'))\n",
        "  model.add(Dense(32,activation='relu'))\n",
        "  model.add(Dense(actions,activation='linear'))\n",
        "  return model\n",
        "\n",
        "model1=build_model(states,actions)\n",
        "model1.summary()"
      ],
      "metadata": {
        "id": "uJTqyutVWY_R",
        "colab": {
          "base_uri": "https://localhost:8080/"
        },
        "outputId": "7cdad647-11f8-45ee-b01b-a9388fe3a3ef"
      },
      "execution_count": 4,
      "outputs": [
        {
          "output_type": "stream",
          "name": "stdout",
          "text": [
            "Model: \"sequential\"\n",
            "_________________________________________________________________\n",
            " Layer (type)                Output Shape              Param #   \n",
            "=================================================================\n",
            " flatten (Flatten)           (None, 8)                 0         \n",
            "                                                                 \n",
            " dense (Dense)               (None, 32)                288       \n",
            "                                                                 \n",
            " dense_1 (Dense)             (None, 32)                1056      \n",
            "                                                                 \n",
            " dense_2 (Dense)             (None, 4)                 132       \n",
            "                                                                 \n",
            "=================================================================\n",
            "Total params: 1,476\n",
            "Trainable params: 1,476\n",
            "Non-trainable params: 0\n",
            "_________________________________________________________________\n"
          ]
        }
      ]
    },
    {
      "cell_type": "code",
      "source": [
        "#from rl.agents.sarsa import EpsGreedyQPolicy\n",
        "policy=EpsGreedyQPolicy()\n",
        "memory=SequentialMemory(limit=50000,window_length=1)\n",
        "\n",
        "agent=DQNAgent(model=model1,memory=memory,policy=policy,nb_actions=actions,nb_steps_warmup=500, target_model_update=1e-2)"
      ],
      "metadata": {
        "id": "R2JCVCzuXddK"
      },
      "execution_count": 5,
      "outputs": []
    },
    {
      "cell_type": "code",
      "source": [
        "agent.compile(Adam(lr=0.001),metrics=['mae'])\n",
        "agent.fit(env, nb_steps=500000, visualize=False, verbose=1)"
      ],
      "metadata": {
        "colab": {
          "base_uri": "https://localhost:8080/"
        },
        "id": "eH65nZhicAcx",
        "outputId": "f5a5760e-dd30-4335-f696-5f5d921dfbca"
      },
      "execution_count": 6,
      "outputs": [
        {
          "output_type": "stream",
          "name": "stdout",
          "text": [
            " 3807/10000 [==========>...................] - ETA: 1:27 - reward: -0.1442done, took 743.693 seconds\n"
          ]
        },
        {
          "output_type": "execute_result",
          "data": {
            "text/plain": [
              "<keras.callbacks.History at 0x7f754d6f4f40>"
            ]
          },
          "metadata": {},
          "execution_count": 6
        }
      ]
    },
    {
      "cell_type": "code",
      "source": [
        "env=wrappers.RecordVideo(env,'videos1',episode_trigger=lambda x: x%1==0)\n",
        "scores=agent.test(env,nb_episodes=10,visualize=False)"
      ],
      "metadata": {
        "id": "asUWIKrDfIx3"
      },
      "execution_count": null,
      "outputs": []
    },
    {
      "cell_type": "code",
      "source": [
        "#save the model weights\n",
        "agent.save_weights('dqn_weights.h5f',overwrite=True)"
      ],
      "metadata": {
        "id": "PMQQc4X1gzHo"
      },
      "execution_count": null,
      "outputs": []
    }
  ]
}